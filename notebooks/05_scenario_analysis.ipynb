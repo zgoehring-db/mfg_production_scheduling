{
 "cells": [
  {
   "cell_type": "code",
   "execution_count": 0,
   "metadata": {
    "application/vnd.databricks.v1+cell": {
     "cellMetadata": {
      "byteLimit": 2048000,
      "rowLimit": 10000
     },
     "inputWidgets": {},
     "nuid": "c4bb4918-cfe8-4e6b-9833-a7d39e691088",
     "showTitle": false,
     "tableResultSettingsMap": {},
     "title": ""
    }
   },
   "outputs": [],
   "source": [
    "from utils.routing_helpers import greedy_assign_priority, compute_kpis\n",
    "\n",
    "CATALOG = \"zg\"\n",
    "SCHEMA = \"production_scheduling_demo\"\n",
    "MODEL_NAME = f\"{CATALOG}.{SCHEMA}.predictive_routing_model\"\n",
    "PLANNING_DAYS = 28  # scheduling horizon (can adjust)\n",
    "SEED = 42"
   ]
  },
  {
   "cell_type": "code",
   "execution_count": 0,
   "metadata": {
    "application/vnd.databricks.v1+cell": {
     "cellMetadata": {
      "byteLimit": 2048000,
      "rowLimit": 10000
     },
     "inputWidgets": {},
     "nuid": "4cd93d8e-1348-4550-876c-6754d9bf9c2c",
     "showTitle": false,
     "tableResultSettingsMap": {},
     "title": ""
    }
   },
   "outputs": [],
   "source": [
    "# load baseline & candidates\n",
    "cand_pd = spark.table(f\"{CATALOG}.{SCHEMA}.candidate_routes_scored\").toPandas()\n",
    "machines_pd = spark.table(f\"{CATALOG}.{SCHEMA}.machines_catalog\").toPandas()\n",
    "assigned_baseline_pd = spark.table(f\"{CATALOG}.{SCHEMA}.assigned_baseline\").toPandas()"
   ]
  },
  {
   "cell_type": "code",
   "execution_count": 0,
   "metadata": {
    "application/vnd.databricks.v1+cell": {
     "cellMetadata": {
      "byteLimit": 2048000,
      "rowLimit": 10000
     },
     "inputWidgets": {},
     "nuid": "4825e3df-12ba-461e-ac7a-6e06ec732cc6",
     "showTitle": false,
     "tableResultSettingsMap": {},
     "title": ""
    }
   },
   "outputs": [],
   "source": [
    "kpi_baseline = compute_kpis(assigned_baseline_pd, machines_pd, PLANNING_DAYS)\n",
    "\n",
    "print(\"BASELINE KPIs\")\n",
    "for k, v in kpi_baseline.items():\n",
    "    print(f\"{k}: {v:.4f}\" if isinstance(v, float) else f\"{k}: {v}\")"
   ]
  },
  {
   "cell_type": "code",
   "execution_count": 0,
   "metadata": {
    "application/vnd.databricks.v1+cell": {
     "cellMetadata": {
      "byteLimit": 2048000,
      "rowLimit": 10000
     },
     "inputWidgets": {},
     "nuid": "c53ba13a-1801-4b23-b780-14dac7dae89a",
     "showTitle": false,
     "tableResultSettingsMap": {},
     "title": ""
    }
   },
   "outputs": [],
   "source": [
    "down_machines = [\"ELEC-ASSEM-2\"]\n",
    "PLANNING_DAYS = 28\n",
    "\n",
    "assigned_scenario, caps_scenario = greedy_assign_priority(cand_pd, machines_pd, PLANNING_DAYS, down_machines)\n",
    "\n",
    "kpi_scenario = compute_kpis(assigned_scenario, machines_pd, PLANNING_DAYS)\n",
    "print(\"Machine Down Scenario KPIs\")\n",
    "for k, v in kpi_scenario.items():\n",
    "    print(f\"{k}: {v:.4f}\" if isinstance(v, float) else f\"{k}: {v}\")"
   ]
  },
  {
   "cell_type": "code",
   "execution_count": 0,
   "metadata": {
    "application/vnd.databricks.v1+cell": {
     "cellMetadata": {
      "byteLimit": 2048000,
      "rowLimit": 10000
     },
     "inputWidgets": {},
     "nuid": "357c6a6f-2e83-46b0-bc59-1838673d9401",
     "showTitle": false,
     "tableResultSettingsMap": {},
     "title": ""
    }
   },
   "outputs": [],
   "source": [
    "delta = {\n",
    "    \"profit_delta\": kpi_scenario[\"expected_profit\"] - kpi_baseline[\"expected_profit\"],\n",
    "    \"ontime_delta\": kpi_scenario[\"expected_ontime_deliveries\"] - kpi_baseline[\"expected_ontime_deliveries\"],\n",
    "    \"utilization_delta\": kpi_scenario[\"factory_capacity_utilization\"] - kpi_baseline[\"factory_capacity_utilization\"],\n",
    "    \"orders_delta\": kpi_scenario[\"expected_orders_completed\"] - kpi_baseline[\"expected_orders_completed\"]\n",
    "}\n",
    "\n",
    "print(\"SCENARIO KPIs:\", kpi_scenario)\n",
    "print(\"DELTAS:\", delta)"
   ]
  }
 ],
 "metadata": {
  "application/vnd.databricks.v1+notebook": {
   "computePreferences": null,
   "dashboards": [],
   "environmentMetadata": {
    "base_environment": "",
    "environment_version": "4"
   },
   "inputWidgetPreferences": null,
   "language": "python",
   "notebookMetadata": {
    "pythonIndentUnit": 2
   },
   "notebookName": "05_scenario_analysis",
   "widgets": {}
  },
  "language_info": {
   "name": "python"
  }
 },
 "nbformat": 4,
 "nbformat_minor": 0
}
